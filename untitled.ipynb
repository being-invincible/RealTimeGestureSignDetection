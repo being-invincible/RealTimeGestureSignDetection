{
 "cells": [
  {
   "attachments": {},
   "cell_type": "markdown",
   "metadata": {},
   "source": [
    "# Sign Language Detection \n",
    "\n",
    "### 1. Imports"
   ]
  },
  {
   "cell_type": "code",
   "execution_count": 2,
   "metadata": {},
   "outputs": [],
   "source": [
    "import cv2\n",
    "import os \n",
    "import time\n",
    "import uuid "
   ]
  },
  {
   "cell_type": "code",
   "execution_count": 3,
   "metadata": {},
   "outputs": [],
   "source": [
    "Images_Path = 'Tensorflow/workspace/images/collectedImages'"
   ]
  },
  {
   "cell_type": "code",
   "execution_count": 4,
   "metadata": {},
   "outputs": [],
   "source": [
    "labels = ['hello', 'thanks', 'yes', 'no']\n",
    "num_images = 15"
   ]
  },
  {
   "cell_type": "code",
   "execution_count": 5,
   "metadata": {},
   "outputs": [
    {
     "data": {
      "text/plain": [
       "'# define a video capture object\\nvid_cap = cv2.VideoCapture(1)\\n\\n# time variables\\ncTime = 0\\npTime = 0\\n\\nwhile True:\\n    # Capture the video frame by img frame\\n    success, img = vid_cap.read()\\n    # Converting the opencv\\'s GBR to RGB img\\n    #imgRGB = cv2.cvtColor(img, cv2.COLOR_BGR2RGB)\\n\\n    # fps = 1/(current time - previous time)\\n    cTime = time.time()\\n    fps = 1/(cTime - pTime)\\n    pTime = cTime \\n\\n    # Display the fps\\n    # Write some Text\\n    font                   = cv2.FONT_HERSHEY_SIMPLEX\\n    topLeftCornerOfText = (10,70)\\n    fontScale              = 3\\n    fontColor              = (255,0,255)\\n    thickness              = 3\\n    lineType               = 2\\n\\n    cv2.putText(img, str(int(fps)), topLeftCornerOfText, font, fontScale, fontColor, thickness, lineType)\\n\\n    # Display the resulting frame\\n    cv2.imshow(\"Image\", img)\\n    cv2.waitKey(0)\\n\\n    # the \\'q\\' button is set as the quitting button\\n    if cv2.waitKey(1) & 0xFF == ord(\\'q\\'):\\n        img.release()\\n        break\\n'"
      ]
     },
     "execution_count": 5,
     "metadata": {},
     "output_type": "execute_result"
    }
   ],
   "source": [
    "\"\"\"# define a video capture object\n",
    "vid_cap = cv2.VideoCapture(1)\n",
    "\n",
    "# time variables\n",
    "cTime = 0\n",
    "pTime = 0\n",
    "\n",
    "while True:\n",
    "    # Capture the video frame by img frame\n",
    "    success, img = vid_cap.read()\n",
    "    # Converting the opencv's GBR to RGB img\n",
    "    #imgRGB = cv2.cvtColor(img, cv2.COLOR_BGR2RGB)\n",
    "\n",
    "    # fps = 1/(current time - previous time)\n",
    "    cTime = time.time()\n",
    "    fps = 1/(cTime - pTime)\n",
    "    pTime = cTime \n",
    "\n",
    "    # Display the fps\n",
    "    # Write some Text\n",
    "    font                   = cv2.FONT_HERSHEY_SIMPLEX\n",
    "    topLeftCornerOfText = (10,70)\n",
    "    fontScale              = 3\n",
    "    fontColor              = (255,0,255)\n",
    "    thickness              = 3\n",
    "    lineType               = 2\n",
    "\n",
    "    cv2.putText(img, str(int(fps)), topLeftCornerOfText, font, fontScale, fontColor, thickness, lineType)\n",
    "\n",
    "    # Display the resulting frame\n",
    "    cv2.imshow(\"Image\", img)\n",
    "    cv2.waitKey(0)\n",
    "\n",
    "    # the 'q' button is set as the quitting button\n",
    "    if cv2.waitKey(1) & 0xFF == ord('q'):\n",
    "        img.release()\n",
    "        break\n",
    "\"\"\""
   ]
  },
  {
   "cell_type": "code",
   "execution_count": 6,
   "metadata": {},
   "outputs": [
    {
     "name": "stdout",
     "output_type": "stream",
     "text": [
      "Collecting images for hello\n",
      "Collecting images for thanks\n",
      "Collecting images for yes\n",
      "Collecting images for no\n",
      "Collecting images for bye\n"
     ]
    },
    {
     "name": "stderr",
     "output_type": "stream",
     "text": [
      "A subdirectory or file forever already exists.\n",
      "Error occurred while processing: forever.\n"
     ]
    },
    {
     "name": "stdout",
     "output_type": "stream",
     "text": [
      "Collecting images for wakanda forever\n"
     ]
    },
    {
     "ename": "",
     "evalue": "",
     "output_type": "error",
     "traceback": [
      "\u001b[1;31mThe Kernel crashed while executing code in the the current cell or a previous cell. Please review the code in the cell(s) to identify a possible cause of the failure. Click <a href='https://aka.ms/vscodeJupyterKernelCrash'>here</a> for more info. View Jupyter <a href='command:jupyter.viewOutput'>log</a> for further details."
     ]
    }
   ],
   "source": [
    "for label in labels:\n",
    "    !mkdir {'Tensorflow\\workspace\\images\\collectedImages\\\\'+label}\n",
    "    cap = cv2.VideoCapture(1)\n",
    "    print('Collecting images for {}'.format(label))\n",
    "    time.sleep(10)\n",
    "    for imgnum in range(num_images):\n",
    "        ret, frame = cap.read()\n",
    "        imagename = os.path.join(Images_Path, label, label+'.'+'{}.jpg'.format(str(uuid.uuid1())))\n",
    "        cv2.imwrite(imagename, frame)\n",
    "        cv2.imshow('frame', frame)\n",
    "        time.sleep(2)\n",
    "\n",
    "        if cv2.waitKey(1) & 0xFF == ord('q'):\n",
    "            break\n",
    "    cap.release()"
   ]
  }
 ],
 "metadata": {
  "kernelspec": {
   "display_name": "Python 3",
   "language": "python",
   "name": "python3"
  },
  "language_info": {
   "codemirror_mode": {
    "name": "ipython",
    "version": 3
   },
   "file_extension": ".py",
   "mimetype": "text/x-python",
   "name": "python",
   "nbconvert_exporter": "python",
   "pygments_lexer": "ipython3",
   "version": "3.9.13 (tags/v3.9.13:6de2ca5, May 17 2022, 16:36:42) [MSC v.1929 64 bit (AMD64)]"
  },
  "orig_nbformat": 4,
  "vscode": {
   "interpreter": {
    "hash": "f0e6068e67fee6816c1e7793e3a31112d31b71b5f2343b4bb47235af618457a7"
   }
  }
 },
 "nbformat": 4,
 "nbformat_minor": 2
}
